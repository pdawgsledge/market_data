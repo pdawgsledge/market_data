{
 "cells": [
  {
   "cell_type": "code",
   "execution_count": 1,
   "metadata": {},
   "outputs": [],
   "source": [
    "import pandas as pd\n",
    "import requests\n",
    "from bs4 import BeautifulSoup\n",
    "import datetime"
   ]
  },
  {
   "cell_type": "code",
   "execution_count": 6,
   "metadata": {},
   "outputs": [
    {
     "name": "stdout",
     "output_type": "stream",
     "text": [
      "       price week month year\n",
      "BTC      NaN  NaN   NaN  NaN\n",
      "ETH      NaN  NaN   NaN  NaN\n",
      "XRP      NaN  NaN   NaN  NaN\n",
      "BCH      NaN  NaN   NaN  NaN\n",
      "Gold     NaN  NaN   NaN  NaN\n",
      "S&P500   NaN  NaN   NaN  NaN\n"
     ]
    }
   ],
   "source": [
    "assets = ['BTC','ETH','XRP','BCH','Gold','S&P500']\n",
    "\n",
    "big_df = pd.DataFrame(index=assets, columns=['price','week','month','year'])\n",
    "print(big_df)"
   ]
  },
  {
   "cell_type": "code",
   "execution_count": 4,
   "metadata": {},
   "outputs": [
    {
     "name": "stdout",
     "output_type": "stream",
     "text": [
      "2020-03-07\n",
      "2020-02-29\n",
      "2020-02-06\n",
      "2019-03-08\n"
     ]
    }
   ],
   "source": [
    "# set dates\n",
    "today = datetime.date.today()\n",
    "week_ago = today - datetime.timedelta(7)\n",
    "month_ago = today - datetime.timedelta(30)\n",
    "year_ago = today - datetime.timedelta(365)\n",
    "\n",
    "print(today)\n",
    "print(week_ago)\n",
    "print(month_ago)\n",
    "print(year_ago)"
   ]
  },
  {
   "cell_type": "code",
   "execution_count": 7,
   "metadata": {},
   "outputs": [
    {
     "name": "stdout",
     "output_type": "stream",
     "text": [
      "BTC\n",
      "Week Change: 7.34%\n",
      "Month Change: -6.0%\n",
      "Year Change: 136.49%\n"
     ]
    }
   ],
   "source": [
    "# get BTC data\n",
    "url = 'https://api.coindesk.com/v1/bpi/historical/close.json?start=' + str(year_ago) + '&end=' + str(today)\n",
    "response = requests.get(url)\n",
    "data = response.json()\n",
    "\n",
    "today_price = data['bpi'][str(today - datetime.timedelta(1))]\n",
    "week_ago_price = data['bpi'][str(week_ago)]\n",
    "month_ago_price = data['bpi'][str(month_ago)]\n",
    "year_ago_price = data['bpi'][str(year_ago)]\n",
    "\n",
    "week_pct = (today_price - week_ago_price) / week_ago_price * 100\n",
    "month_pct = (today_price - month_ago_price) / month_ago_price * 100\n",
    "year_pct = (today_price - year_ago_price) /  year_ago_price * 100\n",
    "\n",
    "big_df.loc['BTC'] = [today_price, week_pct, month_pct, year_pct]\n",
    "\n",
    "print('BTC')\n",
    "print('Week Change: ' + str(round(week_pct,2)) + '%')\n",
    "print('Month Change: ' + str(round(month_pct,2)) + '%')\n",
    "print('Year Change: ' + str(round(year_pct,2)) + '%')"
   ]
  },
  {
   "cell_type": "code",
   "execution_count": 8,
   "metadata": {},
   "outputs": [
    {
     "name": "stdout",
     "output_type": "stream",
     "text": [
      "ETH\n",
      "Week Change: 11.33%\n",
      "Month Change: 8.85%\n",
      "Year Change: 81.72%\n"
     ]
    }
   ],
   "source": [
    "# get ETH data\n",
    "url = 'https://min-api.cryptocompare.com/data/v2/histoday?fsym=ETH&tsym=USD&limit=365'\n",
    "response = requests.get(url)\n",
    "data = response.json()['Data']['Data']\n",
    "\n",
    "today_price = data[-1]['close']\n",
    "week_ago_price = data[-7]['close']\n",
    "month_ago_price = data[-30]['close']\n",
    "year_ago_price = data[0]['close']\n",
    "\n",
    "week_pct = (today_price - week_ago_price) / week_ago_price * 100\n",
    "month_pct = (today_price - month_ago_price) / month_ago_price * 100\n",
    "year_pct = (today_price - year_ago_price) /  year_ago_price * 100\n",
    "\n",
    "big_df.loc['ETH'] = [today_price, week_pct, month_pct, year_pct]\n",
    "\n",
    "print('ETH')\n",
    "print('Week Change: ' + str(round(week_pct,2)) + '%')\n",
    "print('Month Change: ' + str(round(month_pct,2)) + '%')\n",
    "print('Year Change: ' + str(round(year_pct,2)) + '%')"
   ]
  },
  {
   "cell_type": "code",
   "execution_count": 9,
   "metadata": {},
   "outputs": [
    {
     "name": "stdout",
     "output_type": "stream",
     "text": [
      "XRP\n",
      "Week Change: 6.91%\n",
      "Month Change: -12.93%\n",
      "Year Change: -21.49%\n"
     ]
    }
   ],
   "source": [
    "# get XRP data\n",
    "url = 'https://min-api.cryptocompare.com/data/v2/histoday?fsym=XRP&tsym=USD&limit=365'\n",
    "response = requests.get(url)\n",
    "data = response.json()['Data']['Data']\n",
    "\n",
    "today_price = data[-1]['close']\n",
    "week_ago_price = data[-7]['close']\n",
    "month_ago_price = data[-30]['close']\n",
    "year_ago_price = data[0]['close']\n",
    "\n",
    "week_pct = (today_price - week_ago_price) / week_ago_price * 100\n",
    "month_pct = (today_price - month_ago_price) / month_ago_price * 100\n",
    "year_pct = (today_price - year_ago_price) /  year_ago_price * 100\n",
    "\n",
    "big_df.loc['XRP'] = [today_price, week_pct, month_pct, year_pct]\n",
    "\n",
    "print('XRP')\n",
    "print('Week Change: ' + str(round(week_pct,2)) + '%')\n",
    "print('Month Change: ' + str(round(month_pct,2)) + '%')\n",
    "print('Year Change: ' + str(round(year_pct,2)) + '%')"
   ]
  },
  {
   "cell_type": "code",
   "execution_count": 10,
   "metadata": {},
   "outputs": [
    {
     "name": "stdout",
     "output_type": "stream",
     "text": [
      "BCH\n",
      "Week Change: 9.97%\n",
      "Month Change: -21.82%\n",
      "Year Change: 166.39%\n"
     ]
    }
   ],
   "source": [
    "# get BCH data\n",
    "url = 'https://min-api.cryptocompare.com/data/v2/histoday?fsym=BCH&tsym=USD&limit=365'\n",
    "response = requests.get(url)\n",
    "data = response.json()['Data']['Data']\n",
    "\n",
    "today_price = data[-1]['close']\n",
    "week_ago_price = data[-7]['close']\n",
    "month_ago_price = data[-30]['close']\n",
    "year_ago_price = data[0]['close']\n",
    "\n",
    "week_pct = (today_price - week_ago_price) / week_ago_price * 100\n",
    "month_pct = (today_price - month_ago_price) / month_ago_price * 100\n",
    "year_pct = (today_price - year_ago_price) /  year_ago_price * 100\n",
    "\n",
    "big_df.loc['BCH'] = [today_price, week_pct, month_pct, year_pct]\n",
    "\n",
    "print('BCH')\n",
    "print('Week Change: ' + str(round(week_pct,2)) + '%')\n",
    "print('Month Change: ' + str(round(month_pct,2)) + '%')\n",
    "print('Year Change: ' + str(round(year_pct,2)) + '%')"
   ]
  },
  {
   "cell_type": "code",
   "execution_count": 30,
   "metadata": {},
   "outputs": [
    {
     "name": "stdout",
     "output_type": "stream",
     "text": [
      "Gold\n",
      "Week Change: 2.32%\n",
      "Month Change: 7.18%\n",
      "Year Change: 28.95%\n"
     ]
    }
   ],
   "source": [
    "# get gold data\n",
    "import json\n",
    "import sys\n",
    "from io import StringIO\n",
    "import math\n",
    "\n",
    "url = 'https://www.quandl.com/api/v3/datasets/CHRIS/CME_MGC1.csv?start_date=' + \\\n",
    "        str(year_ago) + '&end_date=' + str(today) + '&api_key=xbnZxySJ-eRS3smwD_JN'\n",
    "\n",
    "response = requests.get(url)\n",
    "df = pd.read_csv(StringIO(response.text))\n",
    "\n",
    "today_price = df.iloc[0]['Last']\n",
    "for x in range(10):\n",
    "    today_price = df.iloc[0+x]['Last']\n",
    "    if math.isnan(today_price) == False:\n",
    "        break\n",
    "        \n",
    "week_ago_price = df.iloc[7]['Last']\n",
    "for x in range(10):\n",
    "    week_ago_price = df.iloc[7+x]['Last']\n",
    "    if math.isnan(week_ago_price) == False:\n",
    "        break\n",
    "\n",
    "month_ago_price = df.iloc[30]['Last']   \n",
    "for x in range(10):\n",
    "    month_ago_price = df.iloc[30+x]['Last']\n",
    "    if math.isnan(month_ago_price) == False:\n",
    "        break\n",
    "\n",
    "year_ago_price = df.iloc[-1]['Last'] \n",
    "for x in range(10):\n",
    "    year_ago_price = df.iloc[-1-x]['Last']\n",
    "    if math.isnan(year_ago_price) == False:\n",
    "        break\n",
    "\n",
    "week_pct = (today_price - week_ago_price) / week_ago_price * 100\n",
    "month_pct = (today_price - month_ago_price) / month_ago_price * 100\n",
    "year_pct = (today_price - year_ago_price) /  year_ago_price * 100\n",
    "\n",
    "big_df.loc['Gold'] = [today_price, week_pct, month_pct, year_pct]\n",
    "\n",
    "print('Gold')\n",
    "print('Week Change: ' + str(round(week_pct,2)) + '%')\n",
    "print('Month Change: ' + str(round(month_pct,2)) + '%')\n",
    "print('Year Change: ' + str(round(year_pct,2)) + '%')"
   ]
  },
  {
   "cell_type": "code",
   "execution_count": 12,
   "metadata": {},
   "outputs": [
    {
     "name": "stdout",
     "output_type": "stream",
     "text": [
      "S&P500\n",
      "Week Change: -4.71%\n",
      "Month Change: -11.24%\n",
      "Year Change: 7.22%\n"
     ]
    }
   ],
   "source": [
    "# get S&P500 data\n",
    "import json\n",
    "import sys\n",
    "from io import StringIO\n",
    "\n",
    "url = 'https://www.quandl.com/api/v3/datasets/CHRIS/CME_ES2.csv?start_date=' + \\\n",
    "        str(year_ago) + '&end_date=' + str(today) + '&api_key=xbnZxySJ-eRS3smwD_JN'\n",
    "response = requests.get(url)\n",
    "df = pd.read_csv(StringIO(response.text))\n",
    "\n",
    "today_price = df.iloc[0]['Last']\n",
    "week_ago_price = df.iloc[7]['Last']\n",
    "month_ago_price = df.iloc[30]['Last']\n",
    "year_ago_price = df.iloc[-1]['Last']\n",
    "\n",
    "week_pct = (today_price - week_ago_price) / week_ago_price * 100\n",
    "month_pct = (today_price - month_ago_price) / month_ago_price * 100\n",
    "year_pct = (today_price - year_ago_price) /  year_ago_price * 100\n",
    "\n",
    "big_df.loc['S&P500'] = [today_price, week_pct, month_pct, year_pct]\n",
    "\n",
    "print('S&P500')\n",
    "print('Week Change: ' + str(round(week_pct,2)) + '%')\n",
    "print('Month Change: ' + str(round(month_pct,2)) + '%')\n",
    "print('Year Change: ' + str(round(year_pct,2)) + '%')"
   ]
  },
  {
   "cell_type": "code",
   "execution_count": 31,
   "metadata": {},
   "outputs": [
    {
     "data": {
      "text/html": [
       "<div>\n",
       "<style scoped>\n",
       "    .dataframe tbody tr th:only-of-type {\n",
       "        vertical-align: middle;\n",
       "    }\n",
       "\n",
       "    .dataframe tbody tr th {\n",
       "        vertical-align: top;\n",
       "    }\n",
       "\n",
       "    .dataframe thead th {\n",
       "        text-align: right;\n",
       "    }\n",
       "</style>\n",
       "<table border=\"1\" class=\"dataframe\">\n",
       "  <thead>\n",
       "    <tr style=\"text-align: right;\">\n",
       "      <th></th>\n",
       "      <th>price</th>\n",
       "      <th>week</th>\n",
       "      <th>month</th>\n",
       "      <th>year</th>\n",
       "    </tr>\n",
       "  </thead>\n",
       "  <tbody>\n",
       "    <tr>\n",
       "      <th>BTC</th>\n",
       "      <td>9165.15</td>\n",
       "      <td>7.34041</td>\n",
       "      <td>-6.00371</td>\n",
       "      <td>136.491</td>\n",
       "    </tr>\n",
       "    <tr>\n",
       "      <th>ETH</th>\n",
       "      <td>243</td>\n",
       "      <td>11.33</td>\n",
       "      <td>8.85146</td>\n",
       "      <td>81.723</td>\n",
       "    </tr>\n",
       "    <tr>\n",
       "      <th>XRP</th>\n",
       "      <td>0.243</td>\n",
       "      <td>6.90717</td>\n",
       "      <td>-12.9344</td>\n",
       "      <td>-21.4863</td>\n",
       "    </tr>\n",
       "    <tr>\n",
       "      <th>BCH</th>\n",
       "      <td>343.75</td>\n",
       "      <td>9.96833</td>\n",
       "      <td>-21.8217</td>\n",
       "      <td>166.39</td>\n",
       "    </tr>\n",
       "    <tr>\n",
       "      <th>Gold</th>\n",
       "      <td>1674.5</td>\n",
       "      <td>2.31578</td>\n",
       "      <td>7.18172</td>\n",
       "      <td>28.9466</td>\n",
       "    </tr>\n",
       "    <tr>\n",
       "      <th>S&amp;P500</th>\n",
       "      <td>2952.5</td>\n",
       "      <td>-4.71196</td>\n",
       "      <td>-11.2364</td>\n",
       "      <td>7.21743</td>\n",
       "    </tr>\n",
       "  </tbody>\n",
       "</table>\n",
       "</div>"
      ],
      "text/plain": [
       "          price     week    month     year\n",
       "BTC     9165.15  7.34041 -6.00371  136.491\n",
       "ETH         243    11.33  8.85146   81.723\n",
       "XRP       0.243  6.90717 -12.9344 -21.4863\n",
       "BCH      343.75  9.96833 -21.8217   166.39\n",
       "Gold     1674.5  2.31578  7.18172  28.9466\n",
       "S&P500   2952.5 -4.71196 -11.2364  7.21743"
      ]
     },
     "execution_count": 31,
     "metadata": {},
     "output_type": "execute_result"
    }
   ],
   "source": [
    "# show main dataframe\n",
    "big_df"
   ]
  }
 ],
 "metadata": {
  "kernelspec": {
   "display_name": "Python 3",
   "language": "python",
   "name": "python3"
  },
  "language_info": {
   "codemirror_mode": {
    "name": "ipython",
    "version": 3
   },
   "file_extension": ".py",
   "mimetype": "text/x-python",
   "name": "python",
   "nbconvert_exporter": "python",
   "pygments_lexer": "ipython3",
   "version": "3.7.3"
  }
 },
 "nbformat": 4,
 "nbformat_minor": 2
}
