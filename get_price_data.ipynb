{
 "cells": [
  {
   "cell_type": "code",
   "execution_count": 1,
   "metadata": {},
   "outputs": [],
   "source": [
    "import pandas as pd\n",
    "import requests\n",
    "from bs4 import BeautifulSoup\n",
    "import datetime"
   ]
  },
  {
   "cell_type": "code",
   "execution_count": 68,
   "metadata": {},
   "outputs": [
    {
     "name": "stdout",
     "output_type": "stream",
     "text": [
      "2020-03-09\n",
      "2020-03-02\n",
      "2020-02-08\n",
      "2019-03-10\n"
     ]
    }
   ],
   "source": [
    "# set dates\n",
    "today = datetime.date.today()\n",
    "week_ago = today - datetime.timedelta(7)\n",
    "month_ago = today - datetime.timedelta(30)\n",
    "year_ago = today - datetime.timedelta(365)\n",
    "\n",
    "print(today)\n",
    "print(week_ago)\n",
    "print(month_ago)\n",
    "print(year_ago)"
   ]
  },
  {
   "cell_type": "code",
   "execution_count": 69,
   "metadata": {},
   "outputs": [
    {
     "name": "stdout",
     "output_type": "stream",
     "text": [
      "       price week month year\n",
      "BTC      NaN  NaN   NaN  NaN\n",
      "ETH      NaN  NaN   NaN  NaN\n",
      "XRP      NaN  NaN   NaN  NaN\n",
      "BCH      NaN  NaN   NaN  NaN\n",
      "Gold     NaN  NaN   NaN  NaN\n",
      "S&P500   NaN  NaN   NaN  NaN\n",
      "       2020-03-02 2020-03-03 2020-03-04 2020-03-05 2020-03-06 2020-03-07  \\\n",
      "BTC           NaN        NaN        NaN        NaN        NaN        NaN   \n",
      "ETH           NaN        NaN        NaN        NaN        NaN        NaN   \n",
      "XRP           NaN        NaN        NaN        NaN        NaN        NaN   \n",
      "BCH           NaN        NaN        NaN        NaN        NaN        NaN   \n",
      "Gold          NaN        NaN        NaN        NaN        NaN        NaN   \n",
      "S&P500        NaN        NaN        NaN        NaN        NaN        NaN   \n",
      "\n",
      "       2020-03-08  \n",
      "BTC           NaN  \n",
      "ETH           NaN  \n",
      "XRP           NaN  \n",
      "BCH           NaN  \n",
      "Gold          NaN  \n",
      "S&P500        NaN  \n"
     ]
    }
   ],
   "source": [
    "assets = ['BTC','ETH','XRP','BCH','Gold','S&P500']\n",
    "\n",
    "big_df = pd.DataFrame(index=assets, columns=['price','week','month','year'])\n",
    "week_df = pd.DataFrame(index=assets, columns=[week_ago + datetime.timedelta(x) for x in range(7)])\n",
    "\n",
    "print(big_df)\n",
    "print(week_df)"
   ]
  },
  {
   "cell_type": "code",
   "execution_count": 70,
   "metadata": {},
   "outputs": [
    {
     "name": "stdout",
     "output_type": "stream",
     "text": [
      "BTC\n",
      "Week Change: -9.81%\n",
      "Month Change: -18.67%\n",
      "Year Change: 104.73%\n"
     ]
    }
   ],
   "source": [
    "# get BTC data\n",
    "url = 'https://api.coindesk.com/v1/bpi/historical/close.json?start=' + str(year_ago) + '&end=' + str(today)\n",
    "response = requests.get(url)\n",
    "data = response.json()\n",
    "\n",
    "today_price = data['bpi'][str(today - datetime.timedelta(1))]\n",
    "week_ago_price = data['bpi'][str(week_ago)]\n",
    "month_ago_price = data['bpi'][str(month_ago)]\n",
    "year_ago_price = data['bpi'][str(year_ago)]\n",
    "\n",
    "week_pct = (today_price - week_ago_price) / week_ago_price * 100\n",
    "month_pct = (today_price - month_ago_price) / month_ago_price * 100\n",
    "year_pct = (today_price - year_ago_price) /  year_ago_price * 100\n",
    "\n",
    "big_df.loc['BTC'] = [today_price, week_pct, month_pct, year_pct]\n",
    "week_df.loc['BTC'] = [data['bpi'][str(week_ago + datetime.timedelta(x))] + x for x in range(7)]\n",
    "\n",
    "print('BTC')\n",
    "print('Week Change: ' + str(round(week_pct,2)) + '%')\n",
    "print('Month Change: ' + str(round(month_pct,2)) + '%')\n",
    "print('Year Change: ' + str(round(year_pct,2)) + '%')"
   ]
  },
  {
   "cell_type": "code",
   "execution_count": 71,
   "metadata": {},
   "outputs": [
    {
     "name": "stdout",
     "output_type": "stream",
     "text": [
      "ETH\n",
      "Week Change: -11.2%\n",
      "Month Change: -13.02%\n",
      "Year Change: 46.35%\n"
     ]
    }
   ],
   "source": [
    "# get ETH data\n",
    "url = 'https://min-api.cryptocompare.com/data/v2/histoday?fsym=ETH&tsym=USD&limit=365'\n",
    "response = requests.get(url)\n",
    "data = response.json()['Data']['Data']\n",
    "\n",
    "today_price = data[-1]['close']\n",
    "week_ago_price = data[-7]['close']\n",
    "month_ago_price = data[-30]['close']\n",
    "year_ago_price = data[0]['close']\n",
    "\n",
    "week_pct = (today_price - week_ago_price) / week_ago_price * 100\n",
    "month_pct = (today_price - month_ago_price) / month_ago_price * 100\n",
    "year_pct = (today_price - year_ago_price) /  year_ago_price * 100\n",
    "\n",
    "big_df.loc['ETH'] = [today_price, week_pct, month_pct, year_pct]\n",
    "week_df.loc['ETH'] = [data[-7 + x]['close'] for x in range(7)]\n",
    "\n",
    "print('ETH')\n",
    "print('Week Change: ' + str(round(week_pct,2)) + '%')\n",
    "print('Month Change: ' + str(round(month_pct,2)) + '%')\n",
    "print('Year Change: ' + str(round(year_pct,2)) + '%')"
   ]
  },
  {
   "cell_type": "code",
   "execution_count": 72,
   "metadata": {},
   "outputs": [
    {
     "name": "stdout",
     "output_type": "stream",
     "text": [
      "XRP\n",
      "Week Change: -12.55%\n",
      "Month Change: -27.56%\n",
      "Year Change: -34.84%\n"
     ]
    }
   ],
   "source": [
    "# get XRP data\n",
    "url = 'https://min-api.cryptocompare.com/data/v2/histoday?fsym=XRP&tsym=USD&limit=365'\n",
    "response = requests.get(url)\n",
    "data = response.json()['Data']['Data']\n",
    "\n",
    "today_price = data[-1]['close']\n",
    "week_ago_price = data[-7]['close']\n",
    "month_ago_price = data[-30]['close']\n",
    "year_ago_price = data[0]['close']\n",
    "\n",
    "week_pct = (today_price - week_ago_price) / week_ago_price * 100\n",
    "month_pct = (today_price - month_ago_price) / month_ago_price * 100\n",
    "year_pct = (today_price - year_ago_price) /  year_ago_price * 100\n",
    "\n",
    "big_df.loc['XRP'] = [today_price, week_pct, month_pct, year_pct]\n",
    "week_df.loc['XRP'] = [data[-7 + x]['close'] for x in range(7)]\n",
    "\n",
    "print('XRP')\n",
    "print('Week Change: ' + str(round(week_pct,2)) + '%')\n",
    "print('Month Change: ' + str(round(month_pct,2)) + '%')\n",
    "print('Year Change: ' + str(round(year_pct,2)) + '%')"
   ]
  },
  {
   "cell_type": "code",
   "execution_count": 73,
   "metadata": {},
   "outputs": [
    {
     "name": "stdout",
     "output_type": "stream",
     "text": [
      "BCH\n",
      "Week Change: -18.94%\n",
      "Month Change: -40.62%\n",
      "Year Change: 101.57%\n"
     ]
    }
   ],
   "source": [
    "# get BCH data\n",
    "url = 'https://min-api.cryptocompare.com/data/v2/histoday?fsym=BCH&tsym=USD&limit=365'\n",
    "response = requests.get(url)\n",
    "data = response.json()['Data']['Data']\n",
    "\n",
    "today_price = data[-1]['close']\n",
    "week_ago_price = data[-7]['close']\n",
    "month_ago_price = data[-30]['close']\n",
    "year_ago_price = data[0]['close']\n",
    "\n",
    "week_pct = (today_price - week_ago_price) / week_ago_price * 100\n",
    "month_pct = (today_price - month_ago_price) / month_ago_price * 100\n",
    "year_pct = (today_price - year_ago_price) /  year_ago_price * 100\n",
    "\n",
    "big_df.loc['BCH'] = [today_price, week_pct, month_pct, year_pct]\n",
    "week_df.loc['BCH'] = [data[-7 + x]['close'] for x in range(7)]\n",
    "\n",
    "print('BCH')\n",
    "print('Week Change: ' + str(round(week_pct,2)) + '%')\n",
    "print('Month Change: ' + str(round(month_pct,2)) + '%')\n",
    "print('Year Change: ' + str(round(year_pct,2)) + '%')"
   ]
  },
  {
   "cell_type": "code",
   "execution_count": 74,
   "metadata": {},
   "outputs": [
    {
     "name": "stdout",
     "output_type": "stream",
     "text": [
      "Gold\n",
      "Week Change: 2.32%\n",
      "Month Change: 7.18%\n",
      "Year Change: 29.46%\n"
     ]
    }
   ],
   "source": [
    "# get gold data\n",
    "import json\n",
    "import sys\n",
    "from io import StringIO\n",
    "import math\n",
    "\n",
    "url = 'https://www.quandl.com/api/v3/datasets/CHRIS/CME_MGC1.csv?start_date=' + \\\n",
    "        str(year_ago) + '&end_date=' + str(today) + '&api_key=xbnZxySJ-eRS3smwD_JN'\n",
    "\n",
    "response = requests.get(url)\n",
    "df = pd.read_csv(StringIO(response.text))\n",
    "\n",
    "today_price = df.iloc[0]['Last']\n",
    "for x in range(10):\n",
    "    today_price = df.iloc[0+x]['Last']\n",
    "    if math.isnan(today_price) == False:\n",
    "        break\n",
    "        \n",
    "week_ago_price = df.iloc[7]['Last']\n",
    "for x in range(10):\n",
    "    week_ago_price = df.iloc[7+x]['Last']\n",
    "    if math.isnan(week_ago_price) == False:\n",
    "        break\n",
    "\n",
    "month_ago_price = df.iloc[30]['Last']   \n",
    "for x in range(10):\n",
    "    month_ago_price = df.iloc[30+x]['Last']\n",
    "    if math.isnan(month_ago_price) == False:\n",
    "        break\n",
    "\n",
    "year_ago_price = df.iloc[-1]['Last'] \n",
    "for x in range(10):\n",
    "    year_ago_price = df.iloc[-1-x]['Last']\n",
    "    if math.isnan(year_ago_price) == False:\n",
    "        break\n",
    "\n",
    "week_pct = (today_price - week_ago_price) / week_ago_price * 100\n",
    "month_pct = (today_price - month_ago_price) / month_ago_price * 100\n",
    "year_pct = (today_price - year_ago_price) /  year_ago_price * 100\n",
    "\n",
    "big_df.loc['Gold'] = [today_price, week_pct, month_pct, year_pct]\n",
    "week_df.loc['Gold'] = [df.iloc[7-x]['Last'] for x in range(7)]\n",
    "\n",
    "new_row = []\n",
    "for i, x in enumerate(list(week_df.loc['Gold'])):\n",
    "    if math.isnan(x):\n",
    "        new_row.append(list(week_df.loc['Gold'])[i+1])\n",
    "    else:\n",
    "        new_row.append(x)\n",
    "        \n",
    "week_df.loc['Gold'] = new_row\n",
    "    \n",
    "\n",
    "print('Gold')\n",
    "print('Week Change: ' + str(round(week_pct,2)) + '%')\n",
    "print('Month Change: ' + str(round(month_pct,2)) + '%')\n",
    "print('Year Change: ' + str(round(year_pct,2)) + '%')"
   ]
  },
  {
   "cell_type": "code",
   "execution_count": 75,
   "metadata": {},
   "outputs": [
    {
     "name": "stdout",
     "output_type": "stream",
     "text": [
      "S&P500\n",
      "Week Change: -4.71%\n",
      "Month Change: -11.24%\n",
      "Year Change: 5.8%\n"
     ]
    }
   ],
   "source": [
    "# get S&P500 data\n",
    "import json\n",
    "import sys\n",
    "from io import StringIO\n",
    "\n",
    "url = 'https://www.quandl.com/api/v3/datasets/CHRIS/CME_ES2.csv?start_date=' + \\\n",
    "        str(year_ago) + '&end_date=' + str(today) + '&api_key=xbnZxySJ-eRS3smwD_JN'\n",
    "response = requests.get(url)\n",
    "df = pd.read_csv(StringIO(response.text))\n",
    "\n",
    "today_price = df.iloc[0]['Last']\n",
    "week_ago_price = df.iloc[7]['Last']\n",
    "month_ago_price = df.iloc[30]['Last']\n",
    "year_ago_price = df.iloc[-1]['Last']\n",
    "\n",
    "week_pct = (today_price - week_ago_price) / week_ago_price * 100\n",
    "month_pct = (today_price - month_ago_price) / month_ago_price * 100\n",
    "year_pct = (today_price - year_ago_price) /  year_ago_price * 100\n",
    "\n",
    "big_df.loc['S&P500'] = [today_price, week_pct, month_pct, year_pct]\n",
    "week_df.loc['S&P500'] = [df.iloc[7-x]['Last'] for x in range(7)]\n",
    "\n",
    "print('S&P500')\n",
    "print('Week Change: ' + str(round(week_pct,2)) + '%')\n",
    "print('Month Change: ' + str(round(month_pct,2)) + '%')\n",
    "print('Year Change: ' + str(round(year_pct,2)) + '%')"
   ]
  },
  {
   "cell_type": "code",
   "execution_count": 76,
   "metadata": {},
   "outputs": [
    {
     "name": "stdout",
     "output_type": "stream",
     "text": [
      "DJIA\n",
      "Week Change: -3.92%\n",
      "Month Change: -11.49%\n",
      "Year Change: 0.44%\n"
     ]
    }
   ],
   "source": [
    "# get Dow Jones data\n",
    "import json\n",
    "import sys\n",
    "from io import StringIO\n",
    "\n",
    "url = 'https://www.quandl.com/api/v3/datasets/CHRIS/CME_YM1.csv?start_date=' + \\\n",
    "        str(year_ago) + '&end_date=' + str(today) + '&api_key=xbnZxySJ-eRS3smwD_JN'\n",
    "response = requests.get(url)\n",
    "df = pd.read_csv(StringIO(response.text))\n",
    "\n",
    "today_price = df.iloc[0]['Last']\n",
    "week_ago_price = df.iloc[7]['Last']\n",
    "month_ago_price = df.iloc[30]['Last']\n",
    "year_ago_price = df.iloc[-1]['Last']\n",
    "\n",
    "week_pct = (today_price - week_ago_price) / week_ago_price * 100\n",
    "month_pct = (today_price - month_ago_price) / month_ago_price * 100\n",
    "year_pct = (today_price - year_ago_price) /  year_ago_price * 100\n",
    "\n",
    "big_df.loc['DJIA'] = [today_price, week_pct, month_pct, year_pct]\n",
    "week_df.loc['DJIA'] = [df.iloc[7-x]['Last'] for x in range(7)]\n",
    "\n",
    "print('DJIA')\n",
    "print('Week Change: ' + str(round(week_pct,2)) + '%')\n",
    "print('Month Change: ' + str(round(month_pct,2)) + '%')\n",
    "print('Year Change: ' + str(round(year_pct,2)) + '%')"
   ]
  },
  {
   "cell_type": "code",
   "execution_count": 77,
   "metadata": {},
   "outputs": [
    {
     "name": "stdout",
     "output_type": "stream",
     "text": [
      "US10YR\n",
      "Week Change: -44.36%\n",
      "Month Change: -57.47%\n",
      "Year Change: -71.97%\n"
     ]
    }
   ],
   "source": [
    "# get US Treasury Yield data\n",
    "import json\n",
    "import sys\n",
    "from io import StringIO\n",
    "\n",
    "url = 'https://www.quandl.com/api/v3/datasets/USTREASURY/YIELD.csv?start_date=' + \\\n",
    "        str(year_ago) + '&end_date=' + str(today) + '&api_key=xbnZxySJ-eRS3smwD_JN'\n",
    "response = requests.get(url)\n",
    "df = pd.read_csv(StringIO(response.text))\n",
    "\n",
    "today_price = df.iloc[0]['10 YR']\n",
    "week_ago_price = df.iloc[7]['10 YR']\n",
    "month_ago_price = df.iloc[30]['10 YR']\n",
    "year_ago_price = df.iloc[-1]['10 YR']\n",
    "\n",
    "week_pct = (today_price - week_ago_price) / week_ago_price * 100\n",
    "month_pct = (today_price - month_ago_price) / month_ago_price * 100\n",
    "year_pct = (today_price - year_ago_price) /  year_ago_price * 100\n",
    "\n",
    "big_df.loc['US10YR'] = [today_price, week_pct, month_pct, year_pct]\n",
    "week_df.loc['US10YR'] = [df.iloc[7-x]['10 YR'] for x in range(7)]\n",
    "\n",
    "print('US10YR')\n",
    "print('Week Change: ' + str(round(week_pct,2)) + '%')\n",
    "print('Month Change: ' + str(round(month_pct,2)) + '%')\n",
    "print('Year Change: ' + str(round(year_pct,2)) + '%')"
   ]
  },
  {
   "cell_type": "code",
   "execution_count": 78,
   "metadata": {},
   "outputs": [
    {
     "data": {
      "text/html": [
       "<div>\n",
       "<style scoped>\n",
       "    .dataframe tbody tr th:only-of-type {\n",
       "        vertical-align: middle;\n",
       "    }\n",
       "\n",
       "    .dataframe tbody tr th {\n",
       "        vertical-align: top;\n",
       "    }\n",
       "\n",
       "    .dataframe thead th {\n",
       "        text-align: right;\n",
       "    }\n",
       "</style>\n",
       "<table border=\"1\" class=\"dataframe\">\n",
       "  <thead>\n",
       "    <tr style=\"text-align: right;\">\n",
       "      <th></th>\n",
       "      <th>price</th>\n",
       "      <th>week</th>\n",
       "      <th>month</th>\n",
       "      <th>year</th>\n",
       "    </tr>\n",
       "  </thead>\n",
       "  <tbody>\n",
       "    <tr>\n",
       "      <th>BTC</th>\n",
       "      <td>8050.19</td>\n",
       "      <td>-9.81446</td>\n",
       "      <td>-18.6657</td>\n",
       "      <td>104.733</td>\n",
       "    </tr>\n",
       "    <tr>\n",
       "      <th>ETH</th>\n",
       "      <td>198.88</td>\n",
       "      <td>-11.1984</td>\n",
       "      <td>-13.0199</td>\n",
       "      <td>46.3537</td>\n",
       "    </tr>\n",
       "    <tr>\n",
       "      <th>XRP</th>\n",
       "      <td>0.2048</td>\n",
       "      <td>-12.5534</td>\n",
       "      <td>-27.5557</td>\n",
       "      <td>-34.8393</td>\n",
       "    </tr>\n",
       "    <tr>\n",
       "      <th>BCH</th>\n",
       "      <td>267.16</td>\n",
       "      <td>-18.9442</td>\n",
       "      <td>-40.6206</td>\n",
       "      <td>101.569</td>\n",
       "    </tr>\n",
       "    <tr>\n",
       "      <th>Gold</th>\n",
       "      <td>1674.5</td>\n",
       "      <td>2.31578</td>\n",
       "      <td>7.18172</td>\n",
       "      <td>29.465</td>\n",
       "    </tr>\n",
       "    <tr>\n",
       "      <th>S&amp;P500</th>\n",
       "      <td>2952.5</td>\n",
       "      <td>-4.71196</td>\n",
       "      <td>-11.2364</td>\n",
       "      <td>5.79593</td>\n",
       "    </tr>\n",
       "    <tr>\n",
       "      <th>DJIA</th>\n",
       "      <td>25779</td>\n",
       "      <td>-3.91726</td>\n",
       "      <td>-11.4854</td>\n",
       "      <td>0.440271</td>\n",
       "    </tr>\n",
       "    <tr>\n",
       "      <th>US10YR</th>\n",
       "      <td>0.74</td>\n",
       "      <td>-44.3609</td>\n",
       "      <td>-57.4713</td>\n",
       "      <td>-71.9697</td>\n",
       "    </tr>\n",
       "  </tbody>\n",
       "</table>\n",
       "</div>"
      ],
      "text/plain": [
       "          price     week    month      year\n",
       "BTC     8050.19 -9.81446 -18.6657   104.733\n",
       "ETH      198.88 -11.1984 -13.0199   46.3537\n",
       "XRP      0.2048 -12.5534 -27.5557  -34.8393\n",
       "BCH      267.16 -18.9442 -40.6206   101.569\n",
       "Gold     1674.5  2.31578  7.18172    29.465\n",
       "S&P500   2952.5 -4.71196 -11.2364   5.79593\n",
       "DJIA      25779 -3.91726 -11.4854  0.440271\n",
       "US10YR     0.74 -44.3609 -57.4713  -71.9697"
      ]
     },
     "execution_count": 78,
     "metadata": {},
     "output_type": "execute_result"
    }
   ],
   "source": [
    "# show main dataframe\n",
    "big_df"
   ]
  },
  {
   "cell_type": "code",
   "execution_count": 79,
   "metadata": {},
   "outputs": [
    {
     "data": {
      "text/html": [
       "<div>\n",
       "<style scoped>\n",
       "    .dataframe tbody tr th:only-of-type {\n",
       "        vertical-align: middle;\n",
       "    }\n",
       "\n",
       "    .dataframe tbody tr th {\n",
       "        vertical-align: top;\n",
       "    }\n",
       "\n",
       "    .dataframe thead th {\n",
       "        text-align: right;\n",
       "    }\n",
       "</style>\n",
       "<table border=\"1\" class=\"dataframe\">\n",
       "  <thead>\n",
       "    <tr style=\"text-align: right;\">\n",
       "      <th></th>\n",
       "      <th>2020-03-02</th>\n",
       "      <th>2020-03-03</th>\n",
       "      <th>2020-03-04</th>\n",
       "      <th>2020-03-05</th>\n",
       "      <th>2020-03-06</th>\n",
       "      <th>2020-03-07</th>\n",
       "      <th>2020-03-08</th>\n",
       "    </tr>\n",
       "  </thead>\n",
       "  <tbody>\n",
       "    <tr>\n",
       "      <th>BTC</th>\n",
       "      <td>8926.25</td>\n",
       "      <td>8769.18</td>\n",
       "      <td>8769.89</td>\n",
       "      <td>9076.27</td>\n",
       "      <td>9169.15</td>\n",
       "      <td>8910.95</td>\n",
       "      <td>8056.19</td>\n",
       "    </tr>\n",
       "    <tr>\n",
       "      <th>ETH</th>\n",
       "      <td>223.96</td>\n",
       "      <td>224.87</td>\n",
       "      <td>228.78</td>\n",
       "      <td>245.68</td>\n",
       "      <td>237.64</td>\n",
       "      <td>199.75</td>\n",
       "      <td>198.88</td>\n",
       "    </tr>\n",
       "    <tr>\n",
       "      <th>XRP</th>\n",
       "      <td>0.2342</td>\n",
       "      <td>0.2347</td>\n",
       "      <td>0.2395</td>\n",
       "      <td>0.2452</td>\n",
       "      <td>0.2367</td>\n",
       "      <td>0.204</td>\n",
       "      <td>0.2048</td>\n",
       "    </tr>\n",
       "    <tr>\n",
       "      <th>BCH</th>\n",
       "      <td>329.6</td>\n",
       "      <td>319.55</td>\n",
       "      <td>337.71</td>\n",
       "      <td>350.88</td>\n",
       "      <td>331.49</td>\n",
       "      <td>273.03</td>\n",
       "      <td>267.16</td>\n",
       "    </tr>\n",
       "    <tr>\n",
       "      <th>Gold</th>\n",
       "      <td>1646.4</td>\n",
       "      <td>1646.4</td>\n",
       "      <td>1586.9</td>\n",
       "      <td>1590.2</td>\n",
       "      <td>1641.6</td>\n",
       "      <td>1637.8</td>\n",
       "      <td>1672.8</td>\n",
       "    </tr>\n",
       "    <tr>\n",
       "      <th>S&amp;P500</th>\n",
       "      <td>3098.5</td>\n",
       "      <td>2946</td>\n",
       "      <td>2983</td>\n",
       "      <td>3065.75</td>\n",
       "      <td>2982</td>\n",
       "      <td>3103.5</td>\n",
       "      <td>3014</td>\n",
       "    </tr>\n",
       "    <tr>\n",
       "      <th>DJIA</th>\n",
       "      <td>26830</td>\n",
       "      <td>25529</td>\n",
       "      <td>25688</td>\n",
       "      <td>26543</td>\n",
       "      <td>25809</td>\n",
       "      <td>26946</td>\n",
       "      <td>26131</td>\n",
       "    </tr>\n",
       "    <tr>\n",
       "      <th>US10YR</th>\n",
       "      <td>1.33</td>\n",
       "      <td>1.3</td>\n",
       "      <td>1.13</td>\n",
       "      <td>1.1</td>\n",
       "      <td>1.02</td>\n",
       "      <td>1.02</td>\n",
       "      <td>0.92</td>\n",
       "    </tr>\n",
       "  </tbody>\n",
       "</table>\n",
       "</div>"
      ],
      "text/plain": [
       "       2020-03-02 2020-03-03 2020-03-04 2020-03-05 2020-03-06 2020-03-07  \\\n",
       "BTC       8926.25    8769.18    8769.89    9076.27    9169.15    8910.95   \n",
       "ETH        223.96     224.87     228.78     245.68     237.64     199.75   \n",
       "XRP        0.2342     0.2347     0.2395     0.2452     0.2367      0.204   \n",
       "BCH         329.6     319.55     337.71     350.88     331.49     273.03   \n",
       "Gold       1646.4     1646.4     1586.9     1590.2     1641.6     1637.8   \n",
       "S&P500     3098.5       2946       2983    3065.75       2982     3103.5   \n",
       "DJIA        26830      25529      25688      26543      25809      26946   \n",
       "US10YR       1.33        1.3       1.13        1.1       1.02       1.02   \n",
       "\n",
       "       2020-03-08  \n",
       "BTC       8056.19  \n",
       "ETH        198.88  \n",
       "XRP        0.2048  \n",
       "BCH        267.16  \n",
       "Gold       1672.8  \n",
       "S&P500       3014  \n",
       "DJIA        26131  \n",
       "US10YR       0.92  "
      ]
     },
     "execution_count": 79,
     "metadata": {},
     "output_type": "execute_result"
    }
   ],
   "source": [
    "week_df"
   ]
  },
  {
   "cell_type": "code",
   "execution_count": 80,
   "metadata": {},
   "outputs": [
    {
     "data": {
      "text/plain": [
       "Text(0, 0.5, 'relative value (%)')"
      ]
     },
     "execution_count": 80,
     "metadata": {},
     "output_type": "execute_result"
    },
    {
     "data": {
      "image/png": "[encoded data removed]",
      "text/plain": [
       "<Figure size 432x288 with 1 Axes>"
      ]
     },
     "metadata": {
      "needs_background": "light"
     },
     "output_type": "display_data"
    }
   ],
   "source": [
    "# plot changes in relative value\n",
    "import seaborn as sns\n",
    "import matplotlib.pyplot as plt\n",
    "import matplotlib.dates as mdates\n",
    "\n",
    "rel_val_df = week_df.T\n",
    "rel_val_df = week_df.astype('float64')\n",
    "\n",
    "rel_val_df = week_df.apply(lambda x: x / x[0])\n",
    "\n",
    "grid = rel_val_df.plot()\n",
    "grid.xaxis.set_major_formatter(mdates.DateFormatter('%b %d'))\n",
    "grid.set_title(\"7-Day Price Action\")\n",
    "grid.set_xlabel(\"date\")\n",
    "grid.set_ylabel(\"relative value (%)\")"
   ]
  },
  {
   "cell_type": "code",
   "execution_count": null,
   "metadata": {},
   "outputs": [],
   "source": []
  },
  {
   "cell_type": "code",
   "execution_count": null,
   "metadata": {},
   "outputs": [],
   "source": []
  }
 ],
 "metadata": {
  "kernelspec": {
   "display_name": "Python 3",
   "language": "python",
   "name": "python3"
  },
  "language_info": {
   "codemirror_mode": {
    "name": "ipython",
    "version": 3
   },
   "file_extension": ".py",
   "mimetype": "text/x-python",
   "name": "python",
   "nbconvert_exporter": "python",
   "pygments_lexer": "ipython3",
   "version": "3.7.3"
  }
 },
 "nbformat": 4,
 "nbformat_minor": 2
}
