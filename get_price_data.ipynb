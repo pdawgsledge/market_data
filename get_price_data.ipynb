{
 "cells": [
  {
   "cell_type": "code",
   "execution_count": null,
   "metadata": {},
   "outputs": [],
   "source": [
    "import pandas as pd\n",
    "import requests\n",
    "from bs4 import BeautifulSoup\n",
    "import datetime"
   ]
  },
  {
   "cell_type": "code",
   "execution_count": null,
   "metadata": {},
   "outputs": [],
   "source": [
    "# set dates\n",
    "today = datetime.date.today()\n",
    "week_ago = today - datetime.timedelta(7)\n",
    "month_ago = today - datetime.timedelta(30)\n",
    "year_ago = today - datetime.timedelta(365)\n",
    "\n",
    "print(today)\n",
    "print(week_ago)\n",
    "print(month_ago)\n",
    "print(year_ago)"
   ]
  },
  {
   "cell_type": "code",
   "execution_count": null,
   "metadata": {},
   "outputs": [],
   "source": [
    "# get BTC data\n",
    "url = 'https://api.coindesk.com/v1/bpi/historical/close.json?start=' + str(year_ago) + '&end=' + str(today)\n",
    "response = requests.get(url)\n",
    "data = response.json()\n",
    "\n",
    "today_price = data['bpi'][str(today - datetime.timedelta(1))]\n",
    "week_ago_price = data['bpi'][str(week_ago)]\n",
    "month_ago_price = data['bpi'][str(month_ago)]\n",
    "year_ago_price = data['bpi'][str(year_ago)]\n",
    "\n",
    "week_pct = (today_price - week_ago_price) / week_ago_price * 100\n",
    "month_pct = (today_price - month_ago_price) / month_ago_price * 100\n",
    "year_pct = (today_price - year_ago_price) /  year_ago_price * 100\n",
    "\n",
    "print('BTC')\n",
    "print('Week Change: ' + str(round(week_pct,2)) + '%')\n",
    "print('Month Change: ' + str(round(month_pct,2)) + '%')\n",
    "print('Year Change: ' + str(round(year_pct,2)) + '%')"
   ]
  },
  {
   "cell_type": "code",
   "execution_count": null,
   "metadata": {},
   "outputs": [],
   "source": [
    "# get ETH data\n",
    "url = 'https://min-api.cryptocompare.com/data/v2/histoday?fsym=ETH&tsym=USD&limit=365'\n",
    "response = requests.get(url)\n",
    "data = response.json()['Data']['Data']\n",
    "\n",
    "today_price = data[-1]['close']\n",
    "week_ago_price = data[-7]['close']\n",
    "month_ago_price = data[-30]['close']\n",
    "year_ago_price = data[0]['close']\n",
    "\n",
    "week_pct = (today_price - week_ago_price) / week_ago_price * 100\n",
    "month_pct = (today_price - month_ago_price) / month_ago_price * 100\n",
    "year_pct = (today_price - year_ago_price) /  year_ago_price * 100\n",
    "\n",
    "print('ETH')\n",
    "print('Week Change: ' + str(round(week_pct,2)) + '%')\n",
    "print('Month Change: ' + str(round(month_pct,2)) + '%')\n",
    "print('Year Change: ' + str(round(year_pct,2)) + '%')"
   ]
  },
  {
   "cell_type": "code",
   "execution_count": null,
   "metadata": {},
   "outputs": [],
   "source": [
    "# get XRP data\n",
    "url = 'https://min-api.cryptocompare.com/data/v2/histoday?fsym=XRP&tsym=USD&limit=365'\n",
    "response = requests.get(url)\n",
    "data = response.json()['Data']['Data']\n",
    "\n",
    "today_price = data[-1]['close']\n",
    "week_ago_price = data[-7]['close']\n",
    "month_ago_price = data[-30]['close']\n",
    "year_ago_price = data[0]['close']\n",
    "\n",
    "week_pct = (today_price - week_ago_price) / week_ago_price * 100\n",
    "month_pct = (today_price - month_ago_price) / month_ago_price * 100\n",
    "year_pct = (today_price - year_ago_price) /  year_ago_price * 100\n",
    "\n",
    "print('XRP')\n",
    "print('Week Change: ' + str(round(week_pct,2)) + '%')\n",
    "print('Month Change: ' + str(round(month_pct,2)) + '%')\n",
    "print('Year Change: ' + str(round(year_pct,2)) + '%')"
   ]
  },
  {
   "cell_type": "code",
   "execution_count": null,
   "metadata": {},
   "outputs": [],
   "source": [
    "# get BCH data\n",
    "url = 'https://min-api.cryptocompare.com/data/v2/histoday?fsym=BCH&tsym=USD&limit=365'\n",
    "response = requests.get(url)\n",
    "data = response.json()['Data']['Data']\n",
    "\n",
    "today_price = data[-1]['close']\n",
    "week_ago_price = data[-7]['close']\n",
    "month_ago_price = data[-30]['close']\n",
    "year_ago_price = data[0]['close']\n",
    "\n",
    "week_pct = (today_price - week_ago_price) / week_ago_price * 100\n",
    "month_pct = (today_price - month_ago_price) / month_ago_price * 100\n",
    "year_pct = (today_price - year_ago_price) /  year_ago_price * 100\n",
    "\n",
    "print('BCH')\n",
    "print('Week Change: ' + str(round(week_pct,2)) + '%')\n",
    "print('Month Change: ' + str(round(month_pct,2)) + '%')\n",
    "print('Year Change: ' + str(round(year_pct,2)) + '%')"
   ]
  },
  {
   "cell_type": "code",
   "execution_count": null,
   "metadata": {},
   "outputs": [],
   "source": [
    "# get gold data\n",
    "import json\n",
    "import sys\n",
    "from io import StringIO\n",
    "\n",
    "url = 'https://www.quandl.com/api/v3/datasets/CHRIS/CME_MGC1.csv?start_date=' + \\\n",
    "        str(year_ago) + '&end_date=' + str(today) + '&api_key=xbnZxySJ-eRS3smwD_JN'\n",
    "\n",
    "response = requests.get(url)\n",
    "df = pd.read_csv(StringIO(response.text))\n",
    "\n",
    "today_price = df.iloc[0]['Last']\n",
    "week_ago_price = df.iloc[7]['Last']\n",
    "month_ago_price = df.iloc[30]['Last']\n",
    "year_ago_price = df.iloc[-1]['Last']\n",
    "\n",
    "week_pct = (today_price - week_ago_price) / week_ago_price * 100\n",
    "month_pct = (today_price - month_ago_price) / month_ago_price * 100\n",
    "year_pct = (today_price - year_ago_price) /  year_ago_price * 100\n",
    "\n",
    "print('Gold')\n",
    "print('Week Change: ' + str(round(week_pct,2)) + '%')\n",
    "print('Month Change: ' + str(round(month_pct,2)) + '%')\n",
    "print('Year Change: ' + str(round(year_pct,2)) + '%')"
   ]
  },
  {
   "cell_type": "code",
   "execution_count": null,
   "metadata": {},
   "outputs": [],
   "source": [
    "# get S&P500 data\n",
    "import json\n",
    "import sys\n",
    "from io import StringIO\n",
    "\n",
    "url = 'https://www.quandl.com/api/v3/datasets/CHRIS/CME_ES2.csv?start_date=' + \\\n",
    "        str(year_ago) + '&end_date=' + str(today) + '&api_key=xbnZxySJ-eRS3smwD_JN'\n",
    "response = requests.get(url)\n",
    "df = pd.read_csv(StringIO(response.text))\n",
    "\n",
    "today_price = df.iloc[0]['Last']\n",
    "week_ago_price = df.iloc[7]['Last']\n",
    "month_ago_price = df.iloc[30]['Last']\n",
    "year_ago_price = df.iloc[-1]['Last']\n",
    "\n",
    "week_pct = (today_price - week_ago_price) / week_ago_price * 100\n",
    "month_pct = (today_price - month_ago_price) / month_ago_price * 100\n",
    "year_pct = (today_price - year_ago_price) /  year_ago_price * 100\n",
    "\n",
    "print('S&P500')\n",
    "print('Week Change: ' + str(round(week_pct,2)) + '%')\n",
    "print('Month Change: ' + str(round(month_pct,2)) + '%')\n",
    "print('Year Change: ' + str(round(year_pct,2)) + '%')"
   ]
  },
  {
   "cell_type": "code",
   "execution_count": null,
   "metadata": {},
   "outputs": [],
   "source": []
  }
 ],
 "metadata": {
  "kernelspec": {
   "display_name": "Python 3",
   "language": "python",
   "name": "python3"
  },
  "language_info": {
   "codemirror_mode": {
    "name": "ipython",
    "version": 3
   },
   "file_extension": ".py",
   "mimetype": "text/x-python",
   "name": "python",
   "nbconvert_exporter": "python",
   "pygments_lexer": "ipython3",
   "version": "3.7.3"
  }
 },
 "nbformat": 4,
 "nbformat_minor": 2
}
